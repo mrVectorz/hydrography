{
 "cells": [
  {
   "cell_type": "code",
   "execution_count": null,
   "metadata": {},
   "outputs": [],
   "source": [
    "import requests\n",
    "import re"
   ]
  },
  {
   "cell_type": "code",
   "execution_count": null,
   "metadata": {},
   "outputs": [],
   "source": [
    "class stationDataHandler():\n",
    "    def __init__(self):\n",
    "        self.baseUrl='http://www.cehq.gouv.qc.ca/suivihydro/'\n",
    "    def getStations(self):\n",
    "        \"\"\"Fetches all station IDs\n",
    "        \"\"\"\n",
    "        stationRegex = re.compile('.*option value=\"[0-9]')\n",
    "        self.stations=[]\n",
    "        try:\n",
    "            source=requests.get('%sdefault.asp' % (self.baseUrl))\n",
    "            for line in source.iter_lines():\n",
    "                if line.isascii() and re.match(stationRegex, line.decode('utf-8')):\n",
    "                    station=line.decode('utf-8').split('\"')[1].strip()\n",
    "                    #This is just to avoid dupes\n",
    "                    if station not in self.stations:\n",
    "                        self.stations.append(station)\n",
    "                    else:\n",
    "                        print('Duplicate station ID found: {}'.format(station))\n",
    "        except:\n",
    "            print(\"Unexpected error:\", sys.exc_info()[0])\n",
    "            raise\n",
    "    def stationMetaFetch(self, station):\n",
    "        \"\"\"Function to gather the details of the station\n",
    "        \n",
    "        station - int - ID of the station\n",
    "        \"\"\"\n",
    "        #TODO: everything\n",
    "        print('should do this')\n",
    "\n",
    "    def stationDataFetch(self, station):\n",
    "        source=requests.get('{}fichier_donnees.asp?NoStation={}'.format(self.baseUrl, station))\n",
    "        stationData=[]\n",
    "        for line in source.iter_lines():\n",
    "            if line.startswith(b'D'):\n",
    "                columns=line.replace(b'\\xe9', b'e').decode('utf-8').split()\n",
    "            elif not line.startswith(b'D') and not line == b'' and not line.startswith(b'A'):\n",
    "                #nLine=line.replace(b'\\xa0', b'').decode('utf-8').replace('\\t', ' ')\n",
    "                #stationData.append('{}\\n'.format(nLine.replace(',', '.')))\n",
    "                nLine=line.replace(b'\\xa0', b'').decode('utf-8').replace(',', '.').split()\n",
    "                stationData.append(' '.join(map(lambda x: '[{}]{}'.format(x[0], x[1]), zip(columns, nLine))))\n",
    "        return stationData\n",
    "    def writeStationData(self, station):\n",
    "        data=self.stationDataFetch(station)\n",
    "        if station not in self.stations:\n",
    "            #TODO: should instead try to fetch it, if not real then error\n",
    "            raise Exception('station id has not been discovered, likely wrong number')\n",
    "        \n",
    "        with open('./data/{}'.format(station), 'w') as file:\n",
    "            for line in data:\n",
    "                file.write('{}\\n'.format(line))"
   ]
  },
  {
   "cell_type": "code",
   "execution_count": null,
   "metadata": {},
   "outputs": [],
   "source": [
    "o=stationDataHandler()\n",
    "o.getStations()\n",
    "#print(o.stations)\n",
    "for station in o.stations:\n",
    "    o.writeStationData(station)\n",
    "#o.writeStationData('043301')"
   ]
  },
  {
   "cell_type": "code",
   "execution_count": null,
   "metadata": {},
   "outputs": [],
   "source": [
    "data = requests.get('http://www.cehq.gouv.qc.ca/suivihydro/fichier_donnees.asp?NoStation=010802')"
   ]
  },
  {
   "cell_type": "code",
   "execution_count": null,
   "metadata": {},
   "outputs": [],
   "source": [
    "for line in data.iter_lines():\n",
    "    if line.startswith(b'D'):\n",
    "        columns=line.replace(b'\\xe9', b'e').decode('utf-8').split()\n",
    "    elif not line == b'':\n",
    "        nLine=line.replace(b'\\xa0', b'').decode('utf-8').replace(',', '.').split()\n",
    "        print(' '.join(map(lambda x: '[{}]{}'.format(x[0], x[1]), zip(columns, nLine))))"
   ]
  },
  {
   "cell_type": "code",
   "execution_count": null,
   "metadata": {},
   "outputs": [],
   "source": [
    "#print(columns)\n",
    "#print({columns[i]:nLine[i].replace(',', '.') for i in range(len(columns))})\n",
    "#print([nLine[i].replace(',', '.') for i in range(len(columns))])\n",
    "\n",
    "' '.join(map(lambda x: '[{}]{}'.format(x[0], x[1]), zip(columns, nLine)))"
   ]
  }
 ],
 "metadata": {
  "kernelspec": {
   "display_name": "Python 3",
   "language": "python",
   "name": "python3"
  },
  "language_info": {
   "codemirror_mode": {
    "name": "ipython",
    "version": 3
   },
   "file_extension": ".py",
   "mimetype": "text/x-python",
   "name": "python",
   "nbconvert_exporter": "python",
   "pygments_lexer": "ipython3",
   "version": "3.7.3"
  }
 },
 "nbformat": 4,
 "nbformat_minor": 2
}
